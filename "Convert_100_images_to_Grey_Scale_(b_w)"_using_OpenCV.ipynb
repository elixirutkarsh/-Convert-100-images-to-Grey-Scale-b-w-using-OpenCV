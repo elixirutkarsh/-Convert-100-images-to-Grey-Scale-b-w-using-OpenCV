{
  "nbformat": 4,
  "nbformat_minor": 0,
  "metadata": {
    "colab": {
      "provenance": [],
      "toc_visible": true,
      "authorship_tag": "ABX9TyNmI6DhU22+VbYVBhcsUhBz",
      "include_colab_link": true
    },
    "kernelspec": {
      "name": "python3",
      "display_name": "Python 3"
    },
    "language_info": {
      "name": "python"
    }
  },
  "cells": [
    {
      "cell_type": "markdown",
      "metadata": {
        "id": "view-in-github",
        "colab_type": "text"
      },
      "source": [
        "<a href=\"https://colab.research.google.com/github/elixirutkarsh/-Convert-100-images-to-Grey-Scale-b-w-using-OpenCV/blob/main/%22Convert_100_images_to_Grey_Scale_(b_w)%22_using_OpenCV.ipynb\" target=\"_parent\"><img src=\"https://colab.research.google.com/assets/colab-badge.svg\" alt=\"Open In Colab\"/></a>"
      ]
    },
    {
      "cell_type": "code",
      "execution_count": 17,
      "metadata": {
        "colab": {
          "base_uri": "https://localhost:8080/"
        },
        "id": "uGtHSDTOtpKs",
        "outputId": "09df5bea-240a-4d9b-de2d-65ebd8cd7519"
      },
      "outputs": [
        {
          "output_type": "stream",
          "name": "stdout",
          "text": [
            "Drive already mounted at /content/drive; to attempt to forcibly remount, call drive.mount(\"/content/drive\", force_remount=True).\n",
            "Converted wallpaperflare.com_wallpaper (1).jpg to grayscale\n",
            "Converted wallpaperflare.com_wallpaper (3).jpg to grayscale\n",
            "Converted wallpaperflare.com_wallpaper (5).jpg to grayscale\n",
            "Converted wallpaperflare.com_wallpaper (4).jpg to grayscale\n",
            "Converted wallpaperflare.com_wallpaper (10).jpg to grayscale\n",
            "Converted wallpaperflare.com_wallpaper (9).jpg to grayscale\n",
            "Converted wallpaperflare.com_wallpaper (6).jpg to grayscale\n",
            "Converted wallpaperflare.com_wallpaper (2).jpg to grayscale\n",
            "Converted wallpaperflare.com_wallpaper (7).jpg to grayscale\n",
            "Converted wallpaperflare.com_wallpaper (8).jpg to grayscale\n",
            "Conversion completed.\n"
          ]
        }
      ],
      "source": [
        "from google.colab import drive\n",
        "drive.mount('/content/drive')\n",
        "image_directory = '/content/drive/MyDrive/GrayScaledemo'\n",
        "import cv2\n",
        "import os\n",
        "\n",
        "# Get a list of all image files in the directory\n",
        "image_files = [f for f in os.listdir(image_directory) if os.path.isfile(os.path.join(image_directory, f))]\n",
        "\n",
        "# Loop through each image file and convert it to grayscale\n",
        "for file_name in image_files:\n",
        "    # Read the image\n",
        "    image_path = os.path.join(image_directory, file_name)\n",
        "    image = cv2.imread(image_path)\n",
        "\n",
        "    # Convert the image to grayscale\n",
        "    gray_image = cv2.cvtColor(image, cv2.COLOR_BGR2GRAY)\n",
        "\n",
        "    # Save the grayscale image\n",
        "    output_path = os.path.join(image_directory, \"grayscale_\" + file_name)\n",
        "    cv2.imwrite(output_path, gray_image)\n",
        "\n",
        "    print(f\"Converted {file_name} to grayscale\")\n",
        "\n",
        "print(\"Conversion completed.\")\n",
        "\n"
      ]
    },
    {
      "cell_type": "code",
      "source": [],
      "metadata": {
        "colab": {
          "base_uri": "https://localhost:8080/",
          "height": 253
        },
        "id": "IoQH7Y9v01yj",
        "outputId": "854475e9-2157-4be8-e2ed-ddc2ff901a79"
      },
      "execution_count": 14,
      "outputs": [
        {
          "output_type": "error",
          "ename": "FileNotFoundError",
          "evalue": "ignored",
          "traceback": [
            "\u001b[0;31m---------------------------------------------------------------------------\u001b[0m",
            "\u001b[0;31mFileNotFoundError\u001b[0m                         Traceback (most recent call last)",
            "\u001b[0;32m<ipython-input-14-7468db1562bc>\u001b[0m in \u001b[0;36m<cell line: 6>\u001b[0;34m()\u001b[0m\n\u001b[1;32m      4\u001b[0m \u001b[0;34m\u001b[0m\u001b[0m\n\u001b[1;32m      5\u001b[0m \u001b[0;31m# Get a list of all image files in the directory\u001b[0m\u001b[0;34m\u001b[0m\u001b[0;34m\u001b[0m\u001b[0m\n\u001b[0;32m----> 6\u001b[0;31m \u001b[0mimage_files\u001b[0m \u001b[0;34m=\u001b[0m \u001b[0;34m[\u001b[0m\u001b[0mf\u001b[0m \u001b[0;32mfor\u001b[0m \u001b[0mf\u001b[0m \u001b[0;32min\u001b[0m \u001b[0mos\u001b[0m\u001b[0;34m.\u001b[0m\u001b[0mlistdir\u001b[0m\u001b[0;34m(\u001b[0m\u001b[0mimage_directory\u001b[0m\u001b[0;34m)\u001b[0m \u001b[0;32mif\u001b[0m \u001b[0mos\u001b[0m\u001b[0;34m.\u001b[0m\u001b[0mpath\u001b[0m\u001b[0;34m.\u001b[0m\u001b[0misfile\u001b[0m\u001b[0;34m(\u001b[0m\u001b[0mos\u001b[0m\u001b[0;34m.\u001b[0m\u001b[0mpath\u001b[0m\u001b[0;34m.\u001b[0m\u001b[0mjoin\u001b[0m\u001b[0;34m(\u001b[0m\u001b[0mimage_directory\u001b[0m\u001b[0;34m,\u001b[0m \u001b[0mf\u001b[0m\u001b[0;34m)\u001b[0m\u001b[0;34m)\u001b[0m\u001b[0;34m]\u001b[0m\u001b[0;34m\u001b[0m\u001b[0;34m\u001b[0m\u001b[0m\n\u001b[0m\u001b[1;32m      7\u001b[0m \u001b[0;34m\u001b[0m\u001b[0m\n\u001b[1;32m      8\u001b[0m \u001b[0;31m# Loop through each image file and convert it to grayscale\u001b[0m\u001b[0;34m\u001b[0m\u001b[0;34m\u001b[0m\u001b[0m\n",
            "\u001b[0;31mFileNotFoundError\u001b[0m: [Errno 2] No such file or directory: '/content/drive/MyDrive/GreyScalrdemo'"
          ]
        }
      ]
    }
  ]
}